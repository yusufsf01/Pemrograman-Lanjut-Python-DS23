{
  "nbformat": 4,
  "nbformat_minor": 0,
  "metadata": {
    "colab": {
      "provenance": [],
      "include_colab_link": true
    },
    "kernelspec": {
      "name": "python3",
      "display_name": "Python 3"
    },
    "language_info": {
      "name": "python"
    }
  },
  "cells": [
    {
      "cell_type": "markdown",
      "metadata": {
        "id": "view-in-github",
        "colab_type": "text"
      },
      "source": [
        "<a href=\"https://colab.research.google.com/github/yusufsf01/Pemrograman-Lanjut-Python-DS23/blob/main/Array_Yusuf.ipynb\" target=\"_parent\"><img src=\"https://colab.research.google.com/assets/colab-badge.svg\" alt=\"Open In Colab\"/></a>"
      ]
    },
    {
      "cell_type": "markdown",
      "source": [
        "#**🖥️👩🏻‍💻PRAKTIKUM PEMROGRAMAN LANJUT🔥**\n",
        "##**Pertemuan (3) Array - Senin, 28 Oktober 2024**\n",
        "\n",
        "👤 Nama: Yusuf Sohibul Falah / NRP: 2C2230013 / Kelas: III/A Sains Data\n",
        "\n",
        "💬 Materi Array\n",
        "\n",
        "\n"
      ],
      "metadata": {
        "id": "_bN6_LxQCJZT"
      }
    },
    {
      "cell_type": "markdown",
      "source": [
        "#🤸🏻‍♀️ EKSPLORASI PRIBADI DI KELAS ✨"
      ],
      "metadata": {
        "id": "N0U2Qjks8P9F"
      }
    },
    {
      "cell_type": "code",
      "execution_count": null,
      "metadata": {
        "id": "itmMcxv88OIm",
        "colab": {
          "base_uri": "https://localhost:8080/"
        },
        "outputId": "5b2640e6-c31b-4fd8-ea27-45d589268eed"
      },
      "outputs": [
        {
          "output_type": "stream",
          "name": "stdout",
          "text": [
            "['Toyota', 'Volvo', 'BMW']\n"
          ]
        }
      ],
      "source": [
        "cars = [\"Ford\", \"Volvo\", \"BMW\"]\n",
        "cars[0] = \"Toyota\"\n",
        "print(cars)"
      ]
    },
    {
      "cell_type": "markdown",
      "source": [
        "- Interpretasi coding:\n",
        "\n",
        "- Interpretasi Hasil:"
      ],
      "metadata": {
        "id": "f1J9LJyv9-YC"
      }
    },
    {
      "cell_type": "markdown",
      "source": [
        "#🧠 LATIHAN SOAL DI KELAS ⏱️"
      ],
      "metadata": {
        "id": "KEGjH0_P9D1-"
      }
    },
    {
      "cell_type": "markdown",
      "source": [
        "Reverse"
      ],
      "metadata": {
        "id": "nt7-fY7s9PgC"
      }
    },
    {
      "cell_type": "code",
      "source": [
        "def reverse_numbers():\n",
        "    N = int(input(\"Masukkan N: \"))\n",
        "\n",
        "    numbers = []\n",
        "\n",
        "    for i in range(N):\n",
        "        number = float(input(f\"Masukkan bilangan ke-{i+1}: \"))\n",
        "        numbers.append(number)\n",
        "    reversed_numbers = numbers[::-1]\n",
        "\n",
        "    print(\"Bilangan dalam urutan terbalik:\")\n",
        "    for num in reversed_numbers:\n",
        "        print(num)\n",
        "\n",
        "reverse_numbers()"
      ],
      "metadata": {
        "id": "h7si6sBj9Mr4",
        "colab": {
          "base_uri": "https://localhost:8080/"
        },
        "outputId": "5ad37d4b-711f-445f-f141-fac1f6f09fdd"
      },
      "execution_count": null,
      "outputs": [
        {
          "output_type": "stream",
          "name": "stdout",
          "text": [
            "Masukkan N: 5\n",
            "Masukkan bilangan ke-1: 1\n",
            "Masukkan bilangan ke-2: 3\n",
            "Masukkan bilangan ke-3: 4\n",
            "Masukkan bilangan ke-4: 2\n",
            "Masukkan bilangan ke-5: 5\n",
            "Bilangan dalam urutan terbalik:\n",
            "5.0\n",
            "2.0\n",
            "4.0\n",
            "3.0\n",
            "1.0\n"
          ]
        }
      ]
    },
    {
      "cell_type": "markdown",
      "source": [
        "- Interpretasi coding: Program ini dirancang untuk menerima sejumlah bilangan dari pengguna dan menampilkan bilangan-bilangan tersebut dalam urutan terbalik. Pertama, program meminta pengguna untuk memasukkan jumlah bilangan yang ingin dimasukkan. Setelah itu, program menggunakan loop untuk meminta pengguna memasukkan bilangan satu per satu, yang kemudian disimpan dalam sebuah list.\n",
        "\n",
        "- Interpretasi Hasil: program berhasil membalik urutan bilangan yang dimasukkan oleh pengguna"
      ],
      "metadata": {
        "id": "Wou8YKfJ9lvY"
      }
    },
    {
      "cell_type": "markdown",
      "source": [
        "Anagram"
      ],
      "metadata": {
        "id": "Eucg6DUK9fgA"
      }
    },
    {
      "cell_type": "code",
      "source": [
        "def hitung_frekuensi(arr):\n",
        "    freq = [0] * 11\n",
        "    for elemen in arr:\n",
        "        freq[elemen] += 1\n",
        "    return freq\n",
        "\n",
        "nA = int(input(\"Masukkan banyaknya elemen A: \"))\n",
        "A = []\n",
        "for i in range(nA):\n",
        "    elemen = int(input(f\"Masukkan elemen A ke-{i+1}: \"))\n",
        "    A.append(elemen)\n",
        "\n",
        "nB = int(input(\"Masukkan banyaknya elemen B: \"))\n",
        "B = []\n",
        "for i in range(nB):\n",
        "    elemen = int(input(f\"Masukkan elemen B ke-{i+1}: \"))\n",
        "    B.append(elemen)\n",
        "\n",
        "if nA != nB:\n",
        "    print(\"B bukan anagram dari A\")\n",
        "else:\n",
        "    freqA = hitung_frekuensi(A)\n",
        "    freqB = hitung_frekuensi(B)\n",
        "\n",
        "    if freqA == freqB:\n",
        "        print(\"B adalah anagram dari A\")\n",
        "    else:\n",
        "        print(\"B bukan anagram dari A\")"
      ],
      "metadata": {
        "id": "9uWMEZpP9hlB",
        "colab": {
          "base_uri": "https://localhost:8080/"
        },
        "outputId": "77c87062-eb94-4f6e-f32e-0084cf450f4b"
      },
      "execution_count": null,
      "outputs": [
        {
          "output_type": "stream",
          "name": "stdout",
          "text": [
            "Masukkan banyaknya elemen A: 3\n",
            "Masukkan elemen A ke-1: 1\n",
            "Masukkan elemen A ke-2: 2\n",
            "Masukkan elemen A ke-3: 3\n",
            "Masukkan banyaknya elemen B: 3\n",
            "Masukkan elemen B ke-1: 3\n",
            "Masukkan elemen B ke-2: 2\n",
            "Masukkan elemen B ke-3: 1\n",
            "B adalah anagram dari A\n"
          ]
        }
      ]
    },
    {
      "cell_type": "markdown",
      "source": [
        "- Interpretasi coding: Kode program ini meminta pengguna untuk memasukkan dua array A dan B, menghitung frekuensi kemunculan elemen di masing-masing array, dan memeriksa apakah B merupakan anagram dari A dengan membandingkan tabel frekuensi mereka.\n",
        "\n",
        "- Interpretasi Hasil: Hasil program menunjukkan apakah array B merupakan anagram dari array A berdasarkan kesamaan frekuensi kemunculan elemen di kedua array."
      ],
      "metadata": {
        "id": "fM9Fo97_93Ni"
      }
    },
    {
      "cell_type": "code",
      "source": [
        "panjang = int(input(\"Masukkan panjang string: \"))\n",
        "\n",
        "string = input(\"Masukkan string: \")\n",
        "\n",
        "if string == string[::-1]:\n",
        "    print(f\"{string} adalah palindrom\")\n",
        "else:\n",
        "    print(f\"{string} bukan palindrom\")\n"
      ],
      "metadata": {
        "id": "ld5PrsqIIJyX",
        "outputId": "3246768c-af75-4b1f-e5e4-695a58dda6e2",
        "colab": {
          "base_uri": "https://localhost:8080/"
        }
      },
      "execution_count": 2,
      "outputs": [
        {
          "output_type": "stream",
          "name": "stdout",
          "text": [
            "Masukkan panjang string: 5\n",
            "Masukkan string: radar\n",
            "radar adalah palindrom\n"
          ]
        }
      ]
    },
    {
      "cell_type": "markdown",
      "source": [
        "Interpretasi : Kode program ini meminta pengguna untuk memasukkan sebuah string, lalu memeriksa dan mencetak apakah string tersebut adalah palindrom dengan membandingkan string asli dengan versi terbaliknya.\n",
        "\n",
        "Interpretasi Hasil : Hasil program menunjukkan apakah string yang dimasukkan oleh pengguna adalah palindrom berdasarkan kesamaan antara string tersebut dan versi terbaliknya."
      ],
      "metadata": {
        "id": "9vcQR8cRIsxr"
      }
    },
    {
      "cell_type": "markdown",
      "source": [
        "#🏆 POST TEST 🎯"
      ],
      "metadata": {
        "id": "J_75vTSXKFGE"
      }
    },
    {
      "cell_type": "markdown",
      "source": [
        "Problem (1)"
      ],
      "metadata": {
        "id": "twhHfrqiKSfV"
      }
    },
    {
      "cell_type": "code",
      "source": [],
      "metadata": {
        "id": "hOI8Gls9KV05"
      },
      "execution_count": null,
      "outputs": []
    },
    {
      "cell_type": "markdown",
      "source": [
        "- Interpretasi coding:\n",
        "- Interpretasi hasil:"
      ],
      "metadata": {
        "id": "t9x---59KWVI"
      }
    },
    {
      "cell_type": "markdown",
      "source": [
        "📌Catatan:\n",
        "  - Notebook python ini dibuat untuk memudahkan temen-temen belajar ngoding dan pengumpulan tugas.\n",
        "  - Silakan download notebook ini lalu upload di Google Collab milik kalian agar format `pertemuan`, `topik pertemuan`,\n",
        "`tanggal`, `deskripsi pembahasan materi`, `baris coding` dan `interpretasi` bisa disesuaikan dengan kebutuhan teman-teman.\n",
        "\n",
        "  - Interpretasi coding dan hasil dimaksudkan agar teman-teman semakin memahami apa yang dipelajari.\n",
        "\n",
        "  - Deskripsi pembahasan materi dimaksudkan agar teman-teman semakin memahami apa fokus yang dipelajari.\n",
        "\n",
        "  - Tulisan di setiap sebelum baris code disebut `markdown`. Ada beberapa jenis simbol yang memudahkan kepenulisan `markdown` kita, yaitu seperti : untuk mengatur ukuran tulisan biasanya tulisan pada header menggunakan ini`#`, `##`, `###`, untuk membuat pointer menggunakan ini `-`, untuk membuat tulisan ter-highlight menggunakan ini *` `* , untuk short-cut membuat tulisan jadi **bold** gunakan ini `** **`, dan untuk *tulisan miring* gunakan ini `* *` .\n",
        "\n",
        "  - Semangat belajar! 🌟✨\n",
        "\n",
        "©️ LABORATORIUM SAINS DATA 2024"
      ],
      "metadata": {
        "id": "D-tRQnbQK69l"
      }
    }
  ]
}